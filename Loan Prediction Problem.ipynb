{
 "cells": [
  {
   "cell_type": "markdown",
   "id": "7668ccfe",
   "metadata": {},
   "source": [
    "# Loan Prediction Problem"
   ]
  },
  {
   "cell_type": "markdown",
   "id": "5c332e11",
   "metadata": {},
   "source": [
    "### Predict Loan Eligibility for Dream Housing Finance company\n",
    "\n",
    "Dream Housing Finance company deals in all kinds of home loans. They have presence across all urban, semi urban and rural areas. Customer first applies for home loan and after that company validates the customer eligibility for loan.\n",
    "\n",
    "Company wants to automate the loan eligibility process (real time) based on customer detail provided while filling online application form. These details are Gender, Marital Status, Education, Number of Dependents, Income, Loan Amount, Credit History and others. To automate this process, they have provided a dataset to identify the customers segments that are eligible for loan amount so that they can specifically target these customers. "
   ]
  },
  {
   "cell_type": "markdown",
   "id": "8728124e",
   "metadata": {},
   "source": [
    "### Data Dictionary\n",
    "**Train file:** CSV containing the customers for whom loan eligibility is known as 'Loan_Status'\n",
    "- **Variable** \tDescription\n",
    "- **Loan_ID** \tUnique Loan ID\n",
    "- **Gender** \tMale/ Female\n",
    "- **Married** \tApplicant married (Y/N)\n",
    "- **Dependents** \tNumber of dependents\n",
    "- **Education** \tApplicant Education (Graduate/ Under Graduate)\n",
    "- **Self_Employed** \tSelf employed (Y/N)\n",
    "- **ApplicantIncome** \tApplicant income\n",
    "- **CoapplicantIncome** \tCoapplicant income\n",
    "- **LoanAmount** \tLoan amount in thousands\n",
    "- **Loan_Amount_Term** \tTerm of loan in months\n",
    "- **Credit_History** \tcredit history meets guidelines\n",
    "- **Property_Area** \tUrban/ Semi Urban/ Rural\n",
    "- **Loan_Status** \t(Target) Loan approved (Y/N)\n",
    "\n",
    "**Test file:** CSV containing the customer information for whom loan eligibility is to be predicted\n",
    "- **Variable** \tDescription\n",
    "- **Loan_ID** \tUnique Loan ID\n",
    "- **Gender** \tMale/ Female\n",
    "- **Married** \tApplicant married (Y/N)\n",
    "- **Dependents** \tNumber of dependents\n",
    "- **Education** \tApplicant Education (Graduate/ Under Graduate)\n",
    "- **Self_Employed** \tSelf employed (Y/N)\n",
    "- **ApplicantIncome** \tApplicant income\n",
    "- **CoapplicantIncome** \tCoapplicant income\n",
    "- **LoanAmount** \tLoan amount in thousands\n",
    "- **Loan_Amount_Term** \tTerm of loan in months\n",
    "- **Credit_History** \tcredit history meets guidelines\n",
    "- **Property_Area** \tUrban/ Semi Urban/ Rural\n",
    "\n",
    "**Submission file format**\n",
    "\n",
    "- **Variable** \tDescription\n",
    "- **Loan_ID** \tUnique Loan ID\n",
    "- **Loan_Status** \t(Target) Loan approved (Y/N)"
   ]
  },
  {
   "cell_type": "markdown",
   "id": "195559b4",
   "metadata": {},
   "source": [
    "### Evaluation Metric\n",
    "\n",
    "Your model performance will be evaluated on the basis of your prediction of loan status for the test data (test.csv), which contains similar data-points as train except for the loan status to be predicted. Your submission needs to be in the format as shown in sample submission.\n",
    "\n",
    "We at our end, have the actual loan status for the test dataset, against which your predictions will be evaluated. We will use the Accuracy value to judge your response.\n",
    "\n",
    "### Public and Private Split\n",
    "\n",
    "Test file is further divided into Public (25%) and Private (75%)\n",
    "\n",
    "- Your initial responses will be checked and scored on the Public data.\n",
    "    The final rankings would be based on your private score which will be published once the competition is over.\n",
    "    \n",
    "### Guidelines for Final Submission\n",
    "\n",
    "Please ensure that your final submission includes the following:\n",
    "\n",
    "- Solution file containing the predicted sales value in the test dataset (format is given in sample submission csv)\n",
    "    Code file for reproducing the submission, note that it is mandatory to submit your code for a valid final submission\n",
    "\n"
   ]
  }
 ],
 "metadata": {
  "kernelspec": {
   "display_name": "Python 3 (ipykernel)",
   "language": "python",
   "name": "python3"
  },
  "language_info": {
   "codemirror_mode": {
    "name": "ipython",
    "version": 3
   },
   "file_extension": ".py",
   "mimetype": "text/x-python",
   "name": "python",
   "nbconvert_exporter": "python",
   "pygments_lexer": "ipython3",
   "version": "3.9.13"
  }
 },
 "nbformat": 4,
 "nbformat_minor": 5
}
